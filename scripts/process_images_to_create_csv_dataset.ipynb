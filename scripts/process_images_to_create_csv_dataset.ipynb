{
 "cells": [
  {
   "cell_type": "code",
   "execution_count": 19,
   "metadata": {},
   "outputs": [],
   "source": [
    "import os\n",
    "import sys\n",
    "\n",
    "path = os.getcwd()\n",
    "os.chdir(path)\n",
    "sys.path.append(path)\n",
    "sys.path.append(os.path.join(path, 'scripts'))\n",
    "path = path.split(\"scripts\")[-1]\n",
    "\n",
    "import pandas as pd\n",
    "import matplotlib.pyplot as plt\n",
    "import glob\n",
    "\n",
    "import numpy as np\n",
    "import cv2\n",
    "import importlib\n",
    "\n",
    "from procesa_fotogramas import Procesador\n",
    "from tqdm import tqdm\n",
    "tqdm.pandas()"
   ]
  },
  {
   "cell_type": "code",
   "execution_count": 21,
   "metadata": {},
   "outputs": [
    {
     "name": "stdout",
     "output_type": "stream",
     "text": [
      "['0018b76693a14e20bce3027ff67dc055.npy', '001a83383a7e43e994dbf5b1796f97cc.npy', '00607e166c6e4054ab75451aacfbe32d.npy', '00635ae09a834ebf86ee85c58c12ff82.npy', '0066778f47734ca7a71be790f562c551.npy']\n"
     ]
    },
    {
     "data": {
      "text/plain": [
       "'\\nareas = {filename: procesador.procesa_image(depth_filename=os.path.join(ruta_depth, filename),\\n                          color_filename=os.path.join(ruta_color, filename),\\n                          directorio=ruta_mosaico) for filename in file_list}\\n'"
      ]
     },
     "execution_count": 21,
     "metadata": {},
     "output_type": "execute_result"
    }
   ],
   "source": [
    "path_images = path+'../data/color-images/'\n",
    "path_masks = path+'../data/masks/'\n",
    "\n",
    "file_list = glob.glob(path_images+\"*\")\n",
    "file_list = [os.path.basename(filename) for filename in file_list]\n",
    "\n",
    "file_list = file_list[0:5]\n",
    "print(file_list)\n",
    "\n",
    "\n",
    "procesador = Procesador()\n",
    "\"\"\"\n",
    "areas = {filename: procesador.procesa_image(depth_filename=os.path.join(ruta_depth, filename),\n",
    "                          color_filename=os.path.join(ruta_color, filename),\n",
    "                          directorio=ruta_mosaico) for filename in file_list}\n",
    "\"\"\""
   ]
  },
  {
   "cell_type": "code",
   "execution_count": 62,
   "metadata": {},
   "outputs": [
    {
     "data": {
      "text/html": [
       "<div>\n",
       "<style scoped>\n",
       "    .dataframe tbody tr th:only-of-type {\n",
       "        vertical-align: middle;\n",
       "    }\n",
       "\n",
       "    .dataframe tbody tr th {\n",
       "        vertical-align: top;\n",
       "    }\n",
       "\n",
       "    .dataframe thead th {\n",
       "        text-align: right;\n",
       "    }\n",
       "</style>\n",
       "<table border=\"1\" class=\"dataframe\">\n",
       "  <thead>\n",
       "    <tr style=\"text-align: right;\">\n",
       "      <th></th>\n",
       "      <th>uuid</th>\n",
       "      <th>area</th>\n",
       "    </tr>\n",
       "  </thead>\n",
       "  <tbody>\n",
       "    <tr>\n",
       "      <th>0</th>\n",
       "      <td>3b144fdfdb9f4e02b0f65aed674fbd72</td>\n",
       "      <td>316766.459982</td>\n",
       "    </tr>\n",
       "    <tr>\n",
       "      <th>1</th>\n",
       "      <td>960fd92c91f541f6b85889426c39a0fe</td>\n",
       "      <td>339995.243532</td>\n",
       "    </tr>\n",
       "    <tr>\n",
       "      <th>2</th>\n",
       "      <td>ca10f050724d47f5971c3530ef341a8d</td>\n",
       "      <td>328920.945876</td>\n",
       "    </tr>\n",
       "    <tr>\n",
       "      <th>3</th>\n",
       "      <td>3c4dcc3c6d83425dab0d0acd75227f99</td>\n",
       "      <td>331309.336892</td>\n",
       "    </tr>\n",
       "    <tr>\n",
       "      <th>4</th>\n",
       "      <td>46d3f67bbf684992ac945ce7c1991ae7</td>\n",
       "      <td>340636.324958</td>\n",
       "    </tr>\n",
       "  </tbody>\n",
       "</table>\n",
       "</div>"
      ],
      "text/plain": [
       "                               uuid           area\n",
       "0  3b144fdfdb9f4e02b0f65aed674fbd72  316766.459982\n",
       "1  960fd92c91f541f6b85889426c39a0fe  339995.243532\n",
       "2  ca10f050724d47f5971c3530ef341a8d  328920.945876\n",
       "3  3c4dcc3c6d83425dab0d0acd75227f99  331309.336892\n",
       "4  46d3f67bbf684992ac945ce7c1991ae7  340636.324958"
      ]
     },
     "execution_count": 62,
     "metadata": {},
     "output_type": "execute_result"
    }
   ],
   "source": [
    "areas = pd.Series(areas)\n",
    "areas.index.name = 'uuid'\n",
    "\n",
    "areas = areas.to_frame().reset_index()\n",
    "areas.uuid = areas.uuid.str.replace('.npy', '',)\n",
    "areas.rename(columns={0:'area'}, inplace=True)\n",
    "areas.head()"
   ]
  },
  {
   "cell_type": "code",
   "execution_count": 63,
   "metadata": {},
   "outputs": [
    {
     "data": {
      "text/html": [
       "<div>\n",
       "<style scoped>\n",
       "    .dataframe tbody tr th:only-of-type {\n",
       "        vertical-align: middle;\n",
       "    }\n",
       "\n",
       "    .dataframe tbody tr th {\n",
       "        vertical-align: top;\n",
       "    }\n",
       "\n",
       "    .dataframe thead th {\n",
       "        text-align: right;\n",
       "    }\n",
       "</style>\n",
       "<table border=\"1\" class=\"dataframe\">\n",
       "  <thead>\n",
       "    <tr style=\"text-align: right;\">\n",
       "      <th></th>\n",
       "      <th>uuid</th>\n",
       "      <th>id</th>\n",
       "      <th>sex</th>\n",
       "      <th>weight</th>\n",
       "    </tr>\n",
       "  </thead>\n",
       "  <tbody>\n",
       "    <tr>\n",
       "      <th>0</th>\n",
       "      <td>3b144fdfdb9f4e02b0f65aed674fbd72</td>\n",
       "      <td>0268</td>\n",
       "      <td>1</td>\n",
       "      <td>24.5</td>\n",
       "    </tr>\n",
       "    <tr>\n",
       "      <th>1</th>\n",
       "      <td>960fd92c91f541f6b85889426c39a0fe</td>\n",
       "      <td>0261</td>\n",
       "      <td>1</td>\n",
       "      <td>27.1</td>\n",
       "    </tr>\n",
       "    <tr>\n",
       "      <th>2</th>\n",
       "      <td>ca10f050724d47f5971c3530ef341a8d</td>\n",
       "      <td>0236</td>\n",
       "      <td>0</td>\n",
       "      <td>25.5</td>\n",
       "    </tr>\n",
       "    <tr>\n",
       "      <th>3</th>\n",
       "      <td>3c4dcc3c6d83425dab0d0acd75227f99</td>\n",
       "      <td>0236</td>\n",
       "      <td>0</td>\n",
       "      <td>25.5</td>\n",
       "    </tr>\n",
       "    <tr>\n",
       "      <th>4</th>\n",
       "      <td>46d3f67bbf684992ac945ce7c1991ae7</td>\n",
       "      <td>0238</td>\n",
       "      <td>1</td>\n",
       "      <td>25.8</td>\n",
       "    </tr>\n",
       "  </tbody>\n",
       "</table>\n",
       "</div>"
      ],
      "text/plain": [
       "                               uuid    id  sex  weight\n",
       "0  3b144fdfdb9f4e02b0f65aed674fbd72  0268    1    24.5\n",
       "1  960fd92c91f541f6b85889426c39a0fe  0261    1    27.1\n",
       "2  ca10f050724d47f5971c3530ef341a8d  0236    0    25.5\n",
       "3  3c4dcc3c6d83425dab0d0acd75227f99  0236    0    25.5\n",
       "4  46d3f67bbf684992ac945ce7c1991ae7  0238    1    25.8"
      ]
     },
     "execution_count": 63,
     "metadata": {},
     "output_type": "execute_result"
    }
   ],
   "source": [
    "weight_data = pd.read_csv(os.path.join(ruta, 'repository', 'data', 'id_weight_sex_uuid.csv'), usecols=['uuid', 'id', 'sex', 'weight'])\n",
    "weight_data.head()"
   ]
  },
  {
   "cell_type": "code",
   "execution_count": 64,
   "metadata": {},
   "outputs": [],
   "source": [
    "mix = pd.merge(areas, weight_data, on='uuid', how='left')\n",
    "mix.to_csv(os.path.join(ruta, 'repository', 'data', 'id_weight_sex_uuid_area.csv'))"
   ]
  },
  {
   "cell_type": "code",
   "execution_count": null,
   "metadata": {},
   "outputs": [],
   "source": []
  },
  {
   "cell_type": "code",
   "execution_count": null,
   "metadata": {},
   "outputs": [],
   "source": []
  }
 ],
 "metadata": {
  "kernelspec": {
   "display_name": "Python 3",
   "language": "python",
   "name": "python3"
  },
  "language_info": {
   "codemirror_mode": {
    "name": "ipython",
    "version": 3
   },
   "file_extension": ".py",
   "mimetype": "text/x-python",
   "name": "python",
   "nbconvert_exporter": "python",
   "pygments_lexer": "ipython3",
   "version": "3.7.8"
  }
 },
 "nbformat": 4,
 "nbformat_minor": 2
}
